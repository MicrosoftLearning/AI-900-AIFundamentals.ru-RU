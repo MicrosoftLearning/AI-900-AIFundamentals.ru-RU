{
  "cells": [
    {
      "cell_type": "markdown",
      "source": [
        "# Перевод\r\n",
        "\r\n",
        "Одной из движущих сил развития человеческой цивилизации является возможность общаться друг с другом. В основе большинства людских начинаний лежит общение.\r\n",
        "\r\n",
        "![Многоязычный робот](./images/translation.jpg)\r\n",
        "\r\n",
        "Искусственный интеллект (ИИ) может способствовать упрощению коммуникаций за счет перевода текста или речи с одного языка на другой, что поможет устранить барьеры общения между странами и культурами.\r\n",
        "\r\n",
        "## Создание ресурса Cognitive Services\r\n",
        "\r\n",
        "В Azure можно использовать службы Cognitive Services для перевода между разными языками.\r\n",
        "\r\n",
        "Если у вас нет такого ресурса, воспользуйтесь следующими пошаговыми инструкциями для создания ресурса **Cognitive Services** в вашей подписке Azure:\r\n",
        "\r\n",
        "> **Примечание**. Если у вас уже есть ресурс Cognitive Services, просто откройте его страницу **Быстрый запуск** и скопируйте его ключ и конечную точку в ячейку ниже. В противном случае следуйте приведенным ниже действиям для создания этого ресурса.\r\n",
        "\r\n",
        "1. На другой вкладке браузера откройте портал Azure по адресу https://portal.azure.com, выполнив вход под своей учетной записью Microsoft.\r\n",
        "2. Нажмите кнопку **&#65291;Создать ресурс**, выполните поиск по строке *Cognitive Services* и создайте ресурс **Cognitive Services** со следующими настройками:\r\n",
        "    - **Подписка**. *Ваша подписка Azure*.\r\n",
        "    - **Группа ресурсов**. *Выберите или создайте группу ресурсов с уникальным именем*.\r\n",
        "    - **Регион**. *Выберите любой доступный регион:*\r\n",
        "    - **Имя**. *Введите уникальное имя*.\r\n",
        "    - **Ценовая категория**. S0\r\n",
        "    - **Подтверждаю, что прочитал и понял уведомления**. Выбрано.\r\n",
        "3. Дождитесь завершения развертывания. Затем перейдите на свой ресурс Cognitive Services и на странице **Обзор** щелкните ссылку для управления ключами службы. Для подключения к вашему ресурсу когнитивных служб из клиентских приложений вам понадобятся конечная точка и ключи.\r\n",
        "\r\n",
        "### Получите ключ и расположение вашего ресурса Cognitive Services\r\n",
        "\r\n",
        "Чтобы использовать свой ресурс Cognitive Services, клиентским приложениям требуется ключ проверки подлинности и расположение:\r\n",
        "\r\n",
        "1. На портале Azure откройте страницу **Ключи и конечная точка** для вашего ресурса Cognitive Service, скопируйте **Ключ1** для вашего ресурса и вставьте его в приведенный ниже код, заменив подстановочный текст **YOUR_COG_KEY**.\r\n",
        "2. Скопируйте **Расположение** для вашего ресурса и вставьте его в приведенный ниже код, заменив **YOUR_COG_LOCATION**.\r\n",
        ">**Примечание**. На той же странице **Ключи и конечная точка** скопируйте значение **Расположение** на этой странице (пример: _westus_). _Не_ добавляйте пробелы между словами в поле «Расположение». \r\n",
        "3. Выполните приведенный ниже код, нажав кнопку **Выполнить ячейку** (&#9655;) слева от ячейки."
      ],
      "metadata": {}
    },
    {
      "cell_type": "code",
      "source": [
        "cog_key = 'YOUR_COG_KEY'\n",
        "cog_location = 'YOUR_COG_LOCATION'\n",
        "\n",
        "print('Ready to use cognitive services in {} using key {}'.format(cog_location, cog_key))"
      ],
      "outputs": [],
      "execution_count": null,
      "metadata": {
        "gather": {
          "logged": 1599695377020
        }
      }
    },
    {
      "cell_type": "markdown",
      "source": [
        "## Перевод текста\r\n",
        "\r\n",
        "Служба **Переводчик текста** позволяет перводить текст с одного языка на другой.\r\n",
        "\r\n",
        "Для этой службы нет комплекта Python SDK, однако можно использовать интерфейс REST для отправки запросов на конечную точку по HTTP, что довольно просто сделать в Python, используя библиотеку **запросов**. Сведения о тексте для перевода и получившийся переведенный текст передаются в формате JSON.\r\n",
        "\r\n",
        "Выполните следующую ячейку для создания соответствующей функции, затем протестируйте функцию простым переводом с английского на французский."
      ],
      "metadata": {}
    },
    {
      "cell_type": "code",
      "source": [
        "# Create the URL for the Text Translator service REST request\r\n",
        "def translate_text(cog_location, cog_key, text, to_lang='fr', from_lang='en'):\n",
        "    import requests, uuid, json\n",
        "\n",
        "    # Create the URL for the Text Translator service REST request\n",
        "    path = 'https://api.cognitive.microsofttranslator.com/translate?api-version=3.0'\n",
        "    params = '&from={}&to={}'.format(from_lang, to_lang)\n",
        "    constructed_url = path + params\n",
        "\n",
        "    # Prepare the request headers with Cognitive Services resource key and region\n",
        "    headers = {\n",
        "        'Ocp-Apim-Subscription-Key': cog_key,\n",
        "        'Ocp-Apim-Subscription-Region':cog_location,\n",
        "        'Content-type': 'application/json',\n",
        "        'X-ClientTraceId': str(uuid.uuid4())\n",
        "    }\n",
        "\n",
        "    # Add the text to be translated to the body\n",
        "    body = [{\n",
        "        'text': text\n",
        "    }]\n",
        "\n",
        "    # Get the translation\n",
        "    request = requests.post(constructed_url, headers=headers, json=body)\n",
        "    response = request.json()\n",
        "    return response[0][\"translations\"][0][\"text\"]\n",
        "\n",
        "\n",
        "# Test the function\r\n",
        "text_to_translate = \"Hello\"\n",
        "\n",
        "translation = translate_text(cog_location, cog_key, text_to_translate, to_lang='fr', from_lang='en')\n",
        "print('{} -> {}'.format(text_to_translate,translation))"
      ],
      "outputs": [],
      "execution_count": null,
      "metadata": {
        "gather": {
          "logged": 1599695393341
        }
      }
    },
    {
      "cell_type": "markdown",
      "source": [
        "Служба, которая переводит английский текст «Hello» на французский «Bonjour».\r\n",
        "\r\n",
        "Обратите внимание, что языки указываются с помощью стандартных системных аббревиатур языка, где *en* означает английский, а *fr* – французский. Можно также использовать аббревиатуры, которые включают определенные региональные параметры, что полезно, если один и тот же язык используется в различных географических регионах с некоторыми орфографическими различиями. Например, *en-US* означает английский язык в США, тогда как *en-GB* – английский язык в Великобритании.\r\n",
        "\r\n",
        "Выполните следующую ячейку для перевода с британского английского на итальянский."
      ],
      "metadata": {}
    },
    {
      "cell_type": "code",
      "source": [
        "text_to_translate = \"Hello\"\n",
        "\n",
        "translation = translate_text(cog_location, cog_key, text_to_translate, to_lang='it-IT', from_lang='en-GB')\n",
        "print('{} -> {}'.format(text_to_translate,translation))"
      ],
      "outputs": [],
      "execution_count": null,
      "metadata": {
        "gather": {
          "logged": 1599695400335
        }
      }
    },
    {
      "cell_type": "markdown",
      "source": [
        "Попробуйте другой перевод, на этот раз с американского английского на китайский."
      ],
      "metadata": {}
    },
    {
      "cell_type": "code",
      "source": [
        "text_to_translate = \"Hello\"\n",
        "\n",
        "translation = translate_text(cog_location, cog_key, text_to_translate, to_lang='zh-CN', from_lang='en-US')\n",
        "print('{} -> {}'.format(text_to_translate,translation))"
      ],
      "outputs": [],
      "execution_count": null,
      "metadata": {
        "gather": {
          "logged": 1599695403076
        }
      }
    },
    {
      "cell_type": "markdown",
      "source": [
        "## Перевод речи\r\n",
        "\r\n",
        "Вы можете использовать службу **Речь** для перевода устной речи.\r\n",
        "\r\n",
        "Теперь можно выполнить следующую ячейку, чтобы создать и проверить функцию, которая использует Speech SDK для перевода устной речи.\r\n",
        "\r\n",
        "> **Примечание**. Для прослушивания звука вам понадобятся динамики."
      ],
      "metadata": {}
    },
    {
      "cell_type": "code",
      "source": [
        "from playsound import playsound \n",
        "\n",
        "# Create a function to translate audio in one language to text in another\r\n",
        "def translate_speech(cog_location, cog_key, audio_file=None, to_lang='fr-FR', from_lang='en-US'):\n",
        "    from azure.cognitiveservices.speech import SpeechConfig, AudioConfig, ResultReason\n",
        "    from azure.cognitiveservices.speech.translation import SpeechTranslationConfig, TranslationRecognizer\n",
        "\n",
        "    # Configure the speech translation service\n",
        "    translation_config = SpeechTranslationConfig(subscription=cog_key, region=cog_location)\n",
        "    translation_config.speech_recognition_language = from_lang\n",
        "    translation_config.add_target_language(to_lang)\n",
        "\n",
        "    # Configure audio input\n",
        "    if audio_file is None:\n",
        "        audio_config = AudioConfig() # Use default input (microphone)\n",
        "    else:\n",
        "        audio_config = AudioConfig(filename=audio_file) # Use file input\n",
        "\n",
        "    # Create a translation recognizer and use it to translate speech input\n",
        "    recognizer = TranslationRecognizer(translation_config, audio_config)\n",
        "    result = recognizer.recognize_once()\n",
        "\n",
        "    # Did we get it?\n",
        "    translation = ''\n",
        "    speech_text = ''\n",
        "    if result.reason == ResultReason.TranslatedSpeech:\n",
        "        speech_text = result.text\n",
        "        translation =  result.translations[to_lang]\n",
        "    elif result.reason == ResultReason.RecognizedSpeech:\n",
        "        speech_text = result.text\n",
        "        translation =  'Unable to translate speech'\n",
        "    else:\n",
        "        translation = 'Unknown'\n",
        "        speech_text = 'Unknown'\n",
        "\n",
        "    # rturn the translation\n",
        "    return speech_text, translation\n",
        "    \n",
        "\n",
        "# Test the function\r\n",
        "import os\n",
        "\n",
        "file_name = 'english.wav'\n",
        "file_path = os.path.join('data', 'translation', file_name)\n",
        "speech, translated_speech = translate_speech(cog_location, cog_key, file_path, to_lang='es', from_lang='en-US')\n",
        "result = '{} -> {}'.format(speech, translated_speech)\n",
        "\n",
        "# Show translated text\r\n",
        "playsound(file_path)\n",
        "print(result)"
      ],
      "outputs": [],
      "execution_count": null,
      "metadata": {
        "gather": {
          "logged": 1599695532629
        }
      }
    },
    {
      "cell_type": "markdown",
      "source": [
        "Обратите внимание, что целевой язык должен идентифицироваться 2-хначным кодом языка (например, *en*), тогда как исходный язык должен содержать индикатор региональных параметров (например, *en-US*).\r\n",
        "\r\n",
        "Попробуем перевести с французского на английский."
      ],
      "metadata": {}
    },
    {
      "cell_type": "code",
      "source": [
        "from playsound import playsound\n",
        "import os\n",
        "\n",
        "file_name = 'french.wav'\n",
        "file_path = os.path.join('data', 'translation', file_name)\n",
        "speech, translated_speech = translate_speech(cog_location, cog_key, file_path, to_lang='en', from_lang='fr-FR')\n",
        "result = '{} -> {}'.format(speech, translated_speech)\n",
        "\n",
        "# Show translated text\r\n",
        "playsound(file_path)\n",
        "print(result)"
      ],
      "outputs": [],
      "execution_count": null,
      "metadata": {
        "gather": {
          "logged": 1599695542192
        }
      }
    },
    {
      "cell_type": "markdown",
      "source": [
        "## Подробнее\r\n",
        "\r\n",
        "Можно получить дополнительные сведения о [переводчике текста](https://docs.microsoft.com/azure/cognitive-services/translator/) и [переводе с помощью службы речи](https://docs.microsoft.com/azure/cognitive-services/speech-service/index-speech-translation) в документации по службе."
      ],
      "metadata": {}
    }
  ],
  "metadata": {
    "language_info": {
      "name": "python",
      "version": "3.6.9",
      "mimetype": "text/x-python",
      "codemirror_mode": {
        "name": "ipython",
        "version": 3
      },
      "pygments_lexer": "ipython3",
      "nbconvert_exporter": "python",
      "file_extension": ".py"
    },
    "kernelspec": {
      "name": "python3-azureml",
      "language": "python",
      "display_name": "Python 3.6 - AzureML"
    },
    "kernel_info": {
      "name": "python3-azureml"
    },
    "nteract": {
      "version": "nteract-front-end@1.0.0"
    }
  },
  "nbformat": 4,
  "nbformat_minor": 2
}