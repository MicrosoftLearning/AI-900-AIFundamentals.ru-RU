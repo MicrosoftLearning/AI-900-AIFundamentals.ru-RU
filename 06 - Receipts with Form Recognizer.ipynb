{
  "cells": [
    {
      "cell_type": "markdown",
      "source": [
        "# Анализ квитанций в службе Распознавателя документов (Form Recognizer)\r\n",
        "\r\n",
        "![Робот держит квитанцию](./images/receipt_analysis.jpg)\r\n",
        "\r\n",
        "В сфере искусственного интеллекта компьютерного зрения для чтения печатных или рукописных документов обычно используется оптическое распознавание символов (OCR). Часто текст просто извлекается из документов в формате, который можно использовать для дальнейшей обработки или анализа.\r\n",
        "\r\n",
        "При более продвинутом сценарии OCR информация извлекается из таких бланков, как заказы на поставку или счета-фактуры, с семантическим пониманием того, что представляют собой поля в документе. Служба **Распознавателя документов** специально разработана для решения такого рода задач ИИ.\r\n",
        "\r\n",
        "## Просмотреть квитанцию\r\n",
        "\r\n",
        "В данном примере для анализа квитанций используется встроенная модель Распознавателя документов.\r\n",
        "\r\n",
        "Нажмите кнопку **Выполнить код в ячейке** (&#9655;) (слева от ячейки) внизу, чтобы запустить ее и посмотреть пример квитанции, которую вы будете использовать для анализа с помощью Распознавателя документов."
      ],
      "metadata": {}
    },
    {
      "cell_type": "code",
      "source": [
        "import matplotlib.pyplot as plt\n",
        "from PIL import Image\n",
        "import os\n",
        "%matplotlib inline\n",
        "\n",
        "\n",
        "# Load and display a receipt image\r\n",
        "fig = plt.figure(figsize=(6, 6))\n",
        "image_path = os.path.join('data', 'form-receipt', 'receipt.jpg')\n",
        "img = Image.open(image_path)\n",
        "plt.axis('off')\n",
        "plt.imshow(img)"
      ],
      "outputs": [],
      "execution_count": null,
      "metadata": {
        "gather": {
          "logged": 1599694427893
        }
      }
    },
    {
      "cell_type": "markdown",
      "source": [
        "## Создайте ресурс Распознавателя документов\r\n",
        "\r\n",
        "Давайте начнем с создания ресурса Распознавателя документов в вашей подписке Azure.\r\n",
        "\r\n",
        "1. В другой вкладке браузера откройте портал Azure по адресу: https://portal.azure.com, войдя в систему под учетной записью Microsoft.\r\n",
        "2. Выберите **+ Создать ресурс**, после чего найдите *Распознаватель документов*.\r\n",
        "3. В списке служб выберите **Распознаватель документов**.\r\n",
        "4. В колонке **Распознаватель документов** выберите **Создать**.\r\n",
        "5. В колонке **Создать** введите следующие данные и нажмите **Создать**.\r\n",
        "   - **Имя**: Уникальное имя для вашей службы\r\n",
        "   - **Подписка**: Ваша подписка Azure\r\n",
        "   - **Регион**: Любой доступный регион\r\n",
        "   - **Ценовая категория**: классы F0\r\n",
        "   - **Группа ресурсов**: Существующая группа ресурсов, которую вы использовали ранее\r\n",
        "   - **Подтверждаю, что приведенное ниже уведомление прочитано и понято**: Выбрано.\r\n",
        "6. Дождитесь завершения создания службы.\r\n",
        "7. Просмотрите вновь созданную службу Распознавателя документов на портале Azure и на странице **Ключи и конечная точка** скопируйте значения **Ключ1** и **Конечная точка** и вставьте их в кодовую ячейку ниже, заменив **YOUR_FORM_KEY** и **YOUR_FORM_ENDPOINT**."
      ],
      "metadata": {}
    },
    {
      "cell_type": "code",
      "source": [
        "form_key = 'YOUR_FORM_KEY'\n",
        "form_endpoint = 'YOUR_FORM_ENDPOINT'\n",
        "\n",
        "print('Ready to use form recognizer at {} using key {}'.format(form_endpoint, form_key))"
      ],
      "outputs": [],
      "execution_count": null,
      "metadata": {
        "gather": {
          "logged": 1599694505850
        }
      }
    },
    {
      "cell_type": "markdown",
      "source": [
        "## Проанализировать квитанцию\r\n",
        "\r\n",
        "Теперь вы готовы использовать Распознаватель документов для анализа квитанции."
      ],
      "metadata": {}
    },
    {
      "cell_type": "code",
      "source": [
        "import os\n",
        "from azure.ai.formrecognizer import FormRecognizerClient\n",
        "from azure.core.credentials import AzureKeyCredential\n",
        "\n",
        "# Create a client for the form recognizer service\r\n",
        "form_recognizer_client = FormRecognizerClient(endpoint=form_endpoint, credential=AzureKeyCredential(form_key))\n",
        "\n",
        "try:\n",
        "    print(\"Analyzing receipt...\")\n",
        "    # Get the receipt image file\n",
        "    image_path = os.path.join('data', 'form-receipt', 'receipt.jpg')\n",
        "\n",
        "    # Submit the file data to form recognizer\n",
        "    with open(image_path, \"rb\") as f:\n",
        "        analyze_receipt = form_recognizer_client.begin_recognize_receipts(receipt=f)\n",
        "    \n",
        "    # Get the results\n",
        "    receipt_data = analyze_receipt.result()\n",
        "\n",
        "    # Print the extracted data for the first (and only) receipt\n",
        "    receipt = receipt_data[0]\n",
        "    receipt_type = receipt.fields.get(\"ReceiptType\")\n",
        "    if receipt_type:\n",
        "        print(\"Receipt Type: {}\".format(receipt_type.value))\n",
        "    merchant_address = receipt.fields.get(\"MerchantAddress\")\n",
        "    if merchant_address:\n",
        "        print(\"Merchant Address: {}\".format(merchant_address.value))\n",
        "    merchant_phone = receipt.fields.get(\"MerchantPhoneNumber\")\n",
        "    if merchant_phone:\n",
        "        print(\"Merchant Phone: {}\".format(merchant_phone.value))\n",
        "    transaction_date = receipt.fields.get(\"TransactionDate\")\n",
        "    if transaction_date:\n",
        "        print(\"Transaction Date: {}\".format(transaction_date.value))\n",
        "    print(\"Receipt items:\")\n",
        "    items = receipt.fields.get(\"Items\")\n",
        "    if items:\n",
        "        for idx, item in enumerate(receipt.fields.get(\"Items\").value):\n",
        "            print(\"\\tItem #{}\".format(idx+1))\n",
        "            item_name = item.value.get(\"Name\")\n",
        "            if item_name:\n",
        "                print(\"\\t - Name: {}\".format(item_name.value))\n",
        "            item_total_price = item.value.get(\"TotalPrice\")\n",
        "            if item_total_price:\n",
        "                print(\"\\t - Price: {}\".format(item_total_price.value))\n",
        "    subtotal = receipt.fields.get(\"Subtotal\")\n",
        "    if subtotal:\n",
        "        print(\"Subtotal: {} \".format(subtotal.value))\n",
        "    tax = receipt.fields.get(\"Tax\")\n",
        "    if tax:\n",
        "        print(\"Tax: {}\".format(tax.value))\n",
        "    total = receipt.fields.get(\"Total\")\n",
        "    if total:\n",
        "        print(\"Total: {}\".format(total.value))\n",
        "\n",
        "except Exception as ex:\n",
        "    print('Error:', ex)\n"
      ],
      "outputs": [],
      "execution_count": null,
      "metadata": {
        "gather": {
          "logged": 1599694525404
        }
      }
    },
    {
      "cell_type": "markdown",
      "source": [
        "Обратите внимание, что Распознаватель документов способен интерпретировать данные в документе, правильно идентифицируя адрес и номер телефона продавца, дату и время сделки, а также строки, промежуточный итог, сумму налога и общую сумму.\r\n",
        "\r\n",
        "## Дополнительные сведения\r\n",
        "\r\n",
        "Дополнительные сведения о службе Распознаватель документов см. в [документации по Распознавателю документов ](https://docs.microsoft.com/ru-ru/azure/cognitive-services/form-recognizer/index)"
      ],
      "metadata": {}
    }
  ],
  "metadata": {
    "language_info": {
      "name": "python",
      "version": "3.6.9",
      "mimetype": "text/x-python",
      "codemirror_mode": {
        "name": "ipython",
        "version": 3
      },
      "pygments_lexer": "ipython3",
      "nbconvert_exporter": "python",
      "file_extension": ".py"
    },
    "kernelspec": {
      "name": "python3-azureml",
      "language": "python",
      "display_name": "Python 3.6 - AzureML"
    },
    "kernel_info": {
      "name": "python3-azureml"
    },
    "nteract": {
      "version": "nteract-front-end@1.0.0"
    }
  },
  "nbformat": 4,
  "nbformat_minor": 2
}