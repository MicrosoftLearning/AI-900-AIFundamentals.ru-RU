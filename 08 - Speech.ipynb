{
  "cells": [
    {
      "cell_type": "markdown",
      "metadata": {},
      "source": [
        "# Речь\r\n",
        "\r\n",
        "Все чаще мы ожидаем, что сможем общаться с системами искусственного интеллекта, разговаривая с ними, часто с ожиданием разговорного ответа.\r\n",
        "\r\n",
        "![Говорящий робот](./images/speech.jpg)\r\n",
        "\r\n",
        "*Распознавание речи* (система ИИ, интерпретирующая разговорный язык) и *синтез речи* (система ИИ, генерирующая речевую реакцию) являются ключевыми компонентами решения ИИ по поддержке речи.\r\n",
        "\r\n",
        "## Создание ресурса Cognitive Services\r\n",
        "\r\n",
        "Для создания программного обеспечения, которое может интерпретировать слышимую речь и отвечать на нее в устной форме, можно воспользоваться когнитивной службой **Речь**, которая предоставляет простой способ расшифровки разговорной речи в текст и наоборот.\r\n",
        "\r\n",
        "Если у вас нет такого ресурса, воспользуйтесь следующими пошаговыми инструкциями для создания ресурса **Cognitive Services** в вашей подписке Azure:\r\n",
        "\r\n",
        "> **Примечание**. Если у вас уже есть ресурс Cognitive Services, просто откройте его страницу **Быстрый запуск** и скопируйте его ключ и конечную точку в ячейку ниже. В противном случае следуйте приведенным ниже действиям для создания этого ресурса.\r\n",
        "\r\n",
        "1. На другой вкладке браузера откройте портал Azure по адресу https://portal.azure.com, выполнив вход под своей учетной записью Microsoft.\r\n",
        "2. Нажмите кнопку **&#65291;Создать ресурс**, выполните поиск по строке *Cognitive Services* и создайте ресурс **Cognitive Services** со следующими настройками:\r\n",
        "    - **Подписка**. *Ваша подписка Azure*.\r\n",
        "    - **Группа ресурсов**. *Выберите или создайте группу ресурсов с уникальным именем*.\r\n",
        "    - **Регион**. *Выберите любой доступный регион:*\r\n",
        "    - **Имя**. *Введите уникальное имя*.\r\n",
        "    - **Ценовая категория**. S0\r\n",
        "    - **Подтверждаю, что прочитал и понял уведомления**. Выбрано.\r\n",
        "3. Дождитесь завершения развертывания. Затем перейдите на свой ресурс Cognitive Services и на странице **Обзор** щелкните ссылку для управления ключами службы. Для подключения к вашему ресурсу когнитивных служб из клиентских приложений вам понадобятся ключ и месторасположение.\r\n",
        "\r\n",
        "### Получите ключ и расположение вашего ресурса Cognitive Services\r\n",
        "\r\n",
        "Чтобы использовать свой ресурс Cognitive Services, клиентским приложениям требуется ключ проверки подлинности и расположение:\r\n",
        "\r\n",
        "1. На портале Azure откройте страницу **Ключи и конечная точка** для вашего ресурса Cognitive Service, скопируйте **Ключ1** для вашего ресурса и вставьте его в приведенный ниже код, заменив подстановочный текст **YOUR_COG_KEY**.\r\n",
        "2. Скопируйте **Расположение** для вашего ресурса и вставьте его в приведенный ниже код, заменив **YOUR_COG_LOCATION**.\r\n",
        "> **Примечание**. На той же странице **Ключи и конечная точка** скопируйте значение **Расположение** на этой странице (пример: _westus_). _Не_ добавляйте пробелы между словами в поле «Расположение». \r\n",
        "3. Выполните приведенный ниже код, нажав кнопку **Выполнить ячейку** (&#9655;) слева от ячейки."
      ]
    },
    {
      "cell_type": "code",
      "execution_count": null,
      "metadata": {
        "gather": {
          "logged": 1599695240794
        }
      },
      "outputs": [],
      "source": [
        "cog_key = 'YOUR_COG_KEY'\n",
        "cog_location = 'YOUR_COG_LOCATION'\n",
        "\n",
        "print('Ready to use cognitive services in {} using key {}'.format(cog_location, cog_key))"
      ]
    },
    {
      "cell_type": "markdown",
      "metadata": {},
      "source": [
        "## Распознавание речи\r\n",
        "\r\n",
        "Предположим, вы хотите построить систему домашней автоматизации, которая принимает голосовые инструкции, такие как «включить свет» или «выключить свет». Ваше приложение должно уметь принимать аудиоввод (вашу устную инструкцию) и интерпретировать его, транскрибируя в текст, который затем можно будет разобрать и проанализировать.\r\n",
        "\r\n",
        "Теперь все готово для расшифровки некоторой речи. Входной сигнал может быть с **микрофона** или из **аудиофайла**. \r\n"
      ]
    },
    {
      "cell_type": "markdown",
      "metadata": {},
      "source": [
        "### Распознавание речи с помощью аудиофайла\r\n",
        "\r\n",
        "Выполните код из ячейки ниже, чтобы увидеть службу «Распознавание речи» в действии с **аудиофайлом**. \r\n"
      ]
    },
    {
      "cell_type": "code",
      "execution_count": null,
      "metadata": {},
      "outputs": [],
      "source": [
        "import os\n",
        "from playsound import playsound\n",
        "from azure.cognitiveservices.speech import SpeechConfig, SpeechRecognizer, AudioConfig\n",
        "\n",
        "# Get spoken command from audio file\r\n",
        "file_name = 'light-on.wav'\n",
        "audio_file = os.path.join('data', 'speech', file_name)\n",
        "\n",
        "# Configure speech recognizer\r\n",
        "speech_config = SpeechConfig(cog_key, cog_location)\n",
        "speech_config.speech_synthesis_voice_name = 'en-US-ChristopherNeural'\n",
        "audio_config = AudioConfig(filename=audio_file) # Use file instead of default (microphone)\n",
        "speech_recognizer = SpeechRecognizer(speech_config, audio_config)\n",
        "\n",
        "# Use a one-time, synchronous call to transcribe the speech\r\n",
        "speech = speech_recognizer.recognize_once()\n",
        "\n",
        "# Play the original audio file\r\n",
        "playsound(audio_file)\n",
        "\n",
        "# Show transcribed text from audio file\r\n",
        "print(speech.text)"
      ]
    },
    {
      "cell_type": "markdown",
      "metadata": {},
      "source": [
        "## Синтез речи\r\n",
        "\r\n",
        "Итак, вы увидели, как служба «Речь» может быть использована для расшифровки речи в текст; а как насчет обратного? Как можно преобразовать текст в речь?\r\n",
        "\r\n",
        "Предположим, что ваша система домашней автоматизации интерпретировала команду на включение света. Соответствующим ответом может быть признание команды устно (а также фактическое выполнение задания!)."
      ]
    },
    {
      "cell_type": "code",
      "execution_count": null,
      "metadata": {
        "gather": {
          "logged": 1599695261170
        }
      },
      "outputs": [],
      "source": [
        "import os\n",
        "import matplotlib.pyplot as plt\n",
        "from PIL import Image\n",
        "from azure.cognitiveservices.speech import SpeechConfig, SpeechSynthesizer, AudioConfig\n",
        "%matplotlib inline\n",
        "\n",
        "# Get text to be spoken\r\n",
        "response_text = 'Turning the light on.'\n",
        "\n",
        "# Configure speech synthesis\r\n",
        "speech_config = SpeechConfig(cog_key, cog_location)\n",
        "speech_config.speech_synthesis_voice_name = 'en-US-ChristopherNeural'\n",
        "speech_synthesizer = SpeechSynthesizer(speech_config)\n",
        "\n",
        "# Transcribe text into speech\r\n",
        "result = speech_synthesizer.speak_text(response_text)\n",
        "\n",
        "# Display an appropriate image \r\n",
        "file_name = response_text.lower() + \"jpg\"\n",
        "img = Image.open(os.path.join(\"data\", \"speech\", file_name))\n",
        "plt.axis('off')\n",
        "plt. imshow(img)"
      ]
    },
    {
      "cell_type": "markdown",
      "metadata": {},
      "source": [
        "Попробуйте изменить переменную **response_text** на *Выключить свет.* (включая точку в конце) и снова выполните код из ячейки, чтобы услышать результат.\r\n",
        "\r\n",
        "## Дополнительные сведения\r\n",
        "\r\n",
        "В этой записной книжке вы увидели очень простой пример использования когнитивной службы «Речь». Подробнее о преобразовании [речи в текст](https://docs.microsoft.com/azure/cognitive-services/speech-service/index-speech-to-text) и [текста в речь](https://docs.microsoft.com/azure/cognitive-services/speech-service/index-text-to-speech) см. в документации по службе «Речь»."
      ]
    }
  ],
  "metadata": {
    "kernel_info": {
      "name": "python3-azureml"
    },
    "kernelspec": {
      "display_name": "Python 3.8.5 32-bit",
      "metadata": {
        "interpreter": {
          "hash": "177429bd1865e7f7a0dbecbac90518c0d9641b1102b2e6c0df4b82dc948b5cb2"
        }
      },
      "name": "python3"
    },
    "language_info": {
      "codemirror_mode": {
        "name": "ipython",
        "version": 3
      },
      "file_extension": ".py",
      "mimetype": "text/x-python",
      "name": "python",
      "nbconvert_exporter": "python",
      "pygments_lexer": "ipython3",
      "version": "3.6.0"
    },
    "nteract": {
      "version": "nteract-front-end@1.0.0"
    }
  },
  "nbformat": 4,
  "nbformat_minor": 2
}