{
  "cells": [
    {
      "cell_type": "markdown",
      "source": [
        "# Анализ изображений с помощью службы компьютерного зрения\r\n",
        "\r\n",
        "![Робот держит фотографию](./images/computer_vision.jpg)\r\n",
        "\r\n",
        "*Компьютерное зрение* — это отрасль искусственного интеллекта, которая исследует развитие систем ИИ, способных «видеть» мир либо в режиме реального времени через камеру, либо путем анализа изображений и видео. Это стало возможным благодаря тому, что цифровые изображения, по сути, являются просто массивами с числовыми значениями пикселей, и мы можем использовать эти значения пикселей в качестве *функций* для обучения моделей машинного обучения, которые могут классифицировать изображения, обнаруживать дискретные объекты на изображении и даже генерировать текстовые аннотации фотографий.\r\n",
        "\r\n",
        "## Использование когнитивной службы компьютерного зрения\r\n",
        "\r\n",
        "Microsoft Azure включает ряд *когнитивных служб*, воплощающих общие функции искусственного интеллекта, включая некоторые, которые могут помочь вам в создании решений компьютерного зрения.\r\n",
        "\r\n",
        "Когнитивная служба *Computer Vision* служит очевидной отправной точкой нашего исследования компьютерного зрения в Azure. Она использует предварительно подготовленные модели машинного обучения для анализа изображений и извлечения информации о них.\r\n",
        "\r\n",
        "Например, предположим, что Northwind Traders решили внедрить «умный магазин», в котором службы ИИ следят за магазином, чтобы выявлять клиентов, нуждающихся в помощи, и направлять к ним сотрудников. С помощью службы Computer Vision изображения, сделанные камерами по всему магазину, могут быть проанализированы, чтобы дать содержательное описание того, что они изображают.\r\n",
        "\r\n",
        "### Создание ресурса Cognitive Services\r\n",
        "\r\n",
        "Давайте начнем с создания ресурса **Cognitive Services** в вашей подписке Azure:\r\n",
        "\r\n",
        "1. В другой вкладке браузера откройте портал Azure по адресу: https://portal.azure.com, войдя в систему под учетной записью Microsoft.\r\n",
        "2. Нажмите кнопку **&#65291;Создать ресурс**, выполните поиск по запросу *Cognitive Services* и создайте ресурс **Cognitive Services** со следующими параметрами.\r\n",
        "    - **Подписка**: *Ваша подписка Azure*.\r\n",
        "    - **Группа ресурсов**: *Выберите или создайте группу ресурсов с уникальным именем.*.\r\n",
        "    - **Регион**: *Выберите любой доступный регион*:\r\n",
        "    - **Имя**: *Введите уникальное имя*.\r\n",
        "    - **Ценовая категория**: классы S0\r\n",
        "    - **Подтверждаю, что уведомление прочитано и понято**: Выбрано.\r\n",
        "3. Дождитесь завершения развертывания. Затем перейдите на свой ресурс когнитивных служб, и на странице **Обзор** нажмите на ссылку, чтобы управлять ключами для службы. Для подключения к вашему ресурсу когнитивных служб из клиентских приложений вам понадобятся конечная точка и ключи.\r\n",
        "\r\n",
        "### Получение ключа и конечной точки для ресурса Cognitive Services\r\n",
        "\r\n",
        "Для использования ресурса когнитивных служб клиентским приложениям необходимы их конечная точка и ключ аутентификации:\r\n",
        "\r\n",
        "1. На портале Azure, на странице **Ключи и конечная точка** вашего  ресурса когнитивных служб скопируйте **Ключ1** для своего ресурса и вставьте его в код ниже, заменив **YOUR_COG_KEY**.\r\n",
        "2. Скопируйте **конечную точку** для своего ресурса и вставьте ее в код ниже, заменив **YOUR_COG_ENDPOINT**.\r\n",
        "3. Выполните приведенный ниже код ниже, выбрав ячейку, а затем нажав кнопку **Выполнить код в ячейке** (&#9655;) слева от ячейки."
      ],
      "metadata": {}
    },
    {
      "cell_type": "code",
      "source": [
        "cog_key = 'YOUR_COG_KEY'\n",
        "cog_endpoint = 'YOUR_COG_ENDPOINT'\n",
        "\n",
        "print('Ready to use cognitive services at {} using key {}'.format(cog_endpoint, cog_key))"
      ],
      "outputs": [],
      "execution_count": null,
      "metadata": {
        "gather": {
          "logged": 1599691487445
        }
      }
    },
    {
      "cell_type": "markdown",
      "source": [
        "Теперь, когда вы установили ключ и конечную точку, можно использовать службу компьютерного зрения для анализа изображения.\r\n",
        "\r\n",
        "Выполните код в следующей ячейке, чтобы получить описание изображения в файле */data/vision/store_cam1.jpg*."
      ],
      "metadata": {}
    },
    {
      "cell_type": "code",
      "source": [
        "from azure.cognitiveservices.vision.computervision import ComputerVisionClient\n",
        "from msrest.authentication import CognitiveServicesCredentials\n",
        "from python_code import vision\n",
        "import os\n",
        "%matplotlib inline\n",
        "\n",
        "# Get the path to an image file\r\n",
        "image_path = os.path.join('data', 'vision', 'store_cam1.jpg')\n",
        "\n",
        "# Get a client for the computer vision service\r\n",
        "computervision_client = ComputerVisionClient(cog_endpoint, CognitiveServicesCredentials(cog_key))\n",
        "\n",
        "# Get a description from the computer vision service\r\n",
        "image_stream = open(image_path, \"rb\")\n",
        "description = computervision_client.describe_image_in_stream(image_stream)\n",
        "\n",
        "# Display image and caption (code in helper_scripts/vision.py)\r\n",
        "vision.show_image_caption(image_path, description)\n"
      ],
      "outputs": [],
      "execution_count": null,
      "metadata": {
        "gather": {
          "logged": 1599691518279
        }
      }
    },
    {
      "cell_type": "markdown",
      "source": [
        "Это кажется достаточно точным.\r\n",
        "\r\n",
        "Давайте попробуем другое изображение."
      ],
      "metadata": {}
    },
    {
      "cell_type": "code",
      "source": [
        "# Get the path to an image file\r\n",
        "image_path = os.path.join('data', 'vision', 'store_cam2.jpg')\n",
        "\n",
        "# Get a description from the computer vision service\r\n",
        "image_stream = open(image_path, \"rb\")\n",
        "description = computervision_client.describe_image_in_stream(image_stream)\n",
        "\n",
        "# Display image and caption (code in helper_scripts/vision.py)\r\n",
        "vision.show_image_caption(image_path, description)"
      ],
      "outputs": [],
      "execution_count": null,
      "metadata": {
        "gather": {
          "logged": 1599691524330
        }
      }
    },
    {
      "cell_type": "markdown",
      "source": [
        "Снова-таки, предложенная подпись кажется довольно точной.\r\n",
        "\r\n",
        "## Анализ особенностей изображения\r\n",
        "\r\n",
        "На данный момент вы использовали службу Computer Vision для создания описательных подписей для пары изображений; но вы можете сделать гораздо больше. Служба Computer Vision предоставляет возможности анализа, которые могут извлечь подробную информацию, например:\r\n",
        "\r\n",
        "- Расположение общих типов объектов, обнаруженных на изображении.\r\n",
        "- Местоположение и примерный возраст человеческих лиц на изображении.\r\n",
        "- Содержит ли изображение какое-либо «взрослое», «пикантное» или «кровавое» содержимое.\r\n",
        "- Соответствующие теги, которые могут быть связаны с изображением в базе данных, чтобы облегчить поиск.\r\n",
        "\r\n",
        "Для анализа изображения покупателя выполните следующий код."
      ],
      "metadata": {}
    },
    {
      "cell_type": "code",
      "source": [
        "# Get the path to an image file\r\n",
        "image_path = os.path.join('data', 'vision', 'store_cam1.jpg')\n",
        "\n",
        "# Specify the features we want to analyze\r\n",
        "features = ['Description', 'Tags', 'Adult', 'Objects', 'Faces']\n",
        "\n",
        "# Get an analysis from the computer vision service\r\n",
        "image_stream = open(image_path, \"rb\")\n",
        "analysis = computervision_client.analyze_image_in_stream(image_stream, visual_features=features)\n",
        "\n",
        "# Show the results of analysis (code in helper_scripts/vision.py)\r\n",
        "vision.show_image_analysis(image_path, analysis)"
      ],
      "outputs": [],
      "execution_count": null,
      "metadata": {
        "gather": {
          "logged": 1599691530747
        }
      }
    },
    {
      "cell_type": "markdown",
      "source": [
        "## Дополнительные сведения\r\n",
        "\r\n",
        "В дополнение к возможностям, которые вы изучили в этой записной книжке, когнитивная служба Computer Vision включает в себя возможности:\r\n",
        "\r\n",
        "- Распознавание на изображениях знаменитостей.\r\n",
        "- Выявление на изображении  логотипов брендов.\r\n",
        "- Чтение текста на изображении с помощью оптического распознавания текста (OCR).\r\n",
        "\r\n",
        "Подробнее о когнитивной службе Computer Vision см. в [документации по Computer Vision](https://docs.microsoft.com/azure/cognitive-services/computer-vision/).\r\n"
      ],
      "metadata": {}
    }
  ],
  "metadata": {
    "language_info": {
      "name": "python",
      "version": "3.6.9",
      "mimetype": "text/x-python",
      "codemirror_mode": {
        "name": "ipython",
        "version": 3
      },
      "pygments_lexer": "ipython3",
      "nbconvert_exporter": "python",
      "file_extension": ".py"
    },
    "kernelspec": {
      "name": "python3-azureml",
      "language": "python",
      "display_name": "Python 3.6 - AzureML"
    },
    "kernel_info": {
      "name": "python3-azureml"
    },
    "nteract": {
      "version": "nteract-front-end@1.0.0"
    }
  },
  "nbformat": 4,
  "nbformat_minor": 2
}